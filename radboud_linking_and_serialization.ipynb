{
 "cells": [
  {
   "cell_type": "code",
   "execution_count": 1,
   "metadata": {},
   "outputs": [],
   "source": [
    "import pickle\n",
    "import json\n",
    "import warnings\n",
    "\n",
    "import utils\n",
    "\n",
    "from ontology_processing import OntologyProc\n",
    "from rdf_processing import RDFProc\n",
    "from report_processing import ReportProc\n",
    "from bionlp import BioNLP"
   ]
  },
  {
   "cell_type": "code",
   "execution_count": 2,
   "metadata": {},
   "outputs": [],
   "source": [
    "# filter warnings produced by spacy on similarity between empty vectors\n",
    "warnings.filterwarnings('ignore')"
   ]
  },
  {
   "cell_type": "code",
   "execution_count": 3,
   "metadata": {},
   "outputs": [
    {
     "name": "stderr",
     "output_type": "stream",
     "text": [
      "\n"
     ]
    }
   ],
   "source": [
    "## set instances - this part needs to be uploaded as a request server (I guess?)\n",
    "\n",
    "# ontology processing\n",
    "exa_proc = OntologyProc(ontology_path='./ontology/examode.owl', hiearchies_path='./hierarchy_relations.txt')\n",
    "# rdf processing\n",
    "rdf_proc = RDFProc()\n",
    "# report processing\n",
    "report_proc = ReportProc()\n",
    "# biomedical nlp processing\n",
    "bio_proc = BioNLP(biospacy=\"en_core_sci_lg\", biofast='/home/ims/Desktop/Marchesin/EXAMODE_COLON/embeddings/BioWordVec_PubMed_MIMICIII_d200.bin', \n",
    "                 rules='./rules.txt', dysplasia_mappings='./dysplasia_mappings.txt')"
   ]
  },
  {
   "cell_type": "code",
   "execution_count": 24,
   "metadata": {},
   "outputs": [],
   "source": [
    "## load and translate datasets \n",
    "\n",
    "# load Radboud translated reports\n",
    "with open('./trans_reports/colon/radboud/radboud_translated_reports_2ndDS.pkl', 'rb') as out:\n",
    "    reports = pickle.load(out)"
   ]
  },
  {
   "cell_type": "code",
   "execution_count": 20,
   "metadata": {},
   "outputs": [],
   "source": [
    "## user-defined parameters\n",
    "\n",
    "# define disease use case\n",
    "use_case = 'colon'"
   ]
  },
  {
   "cell_type": "code",
   "execution_count": 8,
   "metadata": {},
   "outputs": [],
   "source": [
    "## restrict base on ontology use case\n",
    "\n",
    "# restrict hand-crafted rules and dysplasia mappings based on use-case\n",
    "bio_proc.restrict2use_case(use_case=use_case)\n",
    "# restrict ontology to given use case\n",
    "exa_use_case = exa_proc.restrict2use_case(use_case=use_case)\n",
    "# get concept labels for the considered use case\n",
    "exa_labels = bio_proc.process_ontology_concepts(labels=[label.lower() for label in exa_use_case['label'].tolist()])"
   ]
  },
  {
   "cell_type": "code",
   "execution_count": 25,
   "metadata": {
    "scrolled": true
   },
   "outputs": [
    {
     "name": "stderr",
     "output_type": "stream",
     "text": [
      "100%|██████████| 2510/2510 [00:00<00:00, 4109.76it/s]\n",
      "100%|██████████| 686/686 [02:00<00:00,  5.69it/s]\n"
     ]
    }
   ],
   "source": [
    "## perform linking and merge concepts from 'structured' and 'nlp' parts\n",
    "\n",
    "# process Radboud reports before linking\n",
    "reports, un_reports, mis_reports = report_proc.process_radboud_reports(reports)\n",
    "\n",
    "# perform linking over Radboud reports\n",
    "concepts = bio_proc.radboud_entity_linking(reports, exa_proc, exa_labels, use_case, exa_use_case)"
   ]
  },
  {
   "cell_type": "code",
   "execution_count": 13,
   "metadata": {},
   "outputs": [],
   "source": [
    "## convert report concepts into pre-defined labels used for classification \n",
    "\n",
    "# get report labels \n",
    "labels = utils.radboud_colon_concepts2labels(concepts)\n",
    "# convert report labels to binary\n",
    "binary = utils.radboud_colon_labels2binary(labels)"
   ]
  },
  {
   "cell_type": "code",
   "execution_count": 15,
   "metadata": {},
   "outputs": [
    {
     "data": {
      "text/plain": [
       "True"
      ]
     },
     "execution_count": 15,
     "metadata": {},
     "output_type": "execute_result"
    }
   ],
   "source": [
    "## store concepts and labels\n",
    "\n",
    "utils.store_concepts(concepts, './data/concepts/colon/radboud/concepts_2ndDS')\n",
    "utils.store_labels(labels, './data/labels/colon/radboud/labels_2ndDS')\n",
    "utils.store_labels(binary, './data/labels/colon/radboud/binary_2ndDS')"
   ]
  },
  {
   "cell_type": "code",
   "execution_count": 18,
   "metadata": {
    "scrolled": true
   },
   "outputs": [
    {
     "name": "stdout",
     "output_type": "stream",
     "text": [
      "decoupled dysplasia mention\n",
      "decoupled dysplasia mention\n",
      "decoupled dysplasia mention\n",
      "decoupled dysplasia mention\n",
      "decoupled dysplasia mention\n",
      "decoupled dysplasia mention\n",
      "decoupled dysplasia mention\n",
      "decoupled dysplasia mention\n",
      "decoupled dysplasia mention(s)\n",
      "decoupled dysplasia mention\n",
      "decoupled dysplasia mention\n",
      "decoupled dysplasia mention\n",
      "decoupled dysplasia mention\n",
      "decoupled dysplasia mention\n",
      "decoupled dysplasia mention\n",
      "decoupled dysplasia mention\n",
      "decoupled dysplasia mention\n",
      "decoupled dysplasia mention\n",
      "decoupled dysplasia mention(s)\n",
      "decoupled dysplasia mention\n",
      "decoupled dysplasia mention\n",
      "decoupled dysplasia mention\n",
      "decoupled dysplasia mention\n",
      "decoupled dysplasia mention\n",
      "decoupled dysplasia mention(s)\n",
      "decoupled dysplasia mention\n",
      "decoupled dysplasia mention\n",
      "decoupled dysplasia mention\n",
      "decoupled dysplasia mention\n",
      "decoupled dysplasia mention\n",
      "decoupled dysplasia mention\n",
      "decoupled dysplasia mention\n",
      "decoupled dysplasia mention(s)\n",
      "decoupled dysplasia mention\n",
      "decoupled dysplasia mention\n",
      "decoupled dysplasia mention\n",
      "decoupled dysplasia mention\n",
      "decoupled dysplasia mention\n",
      "decoupled dysplasia mention\n",
      "decoupled dysplasia mention\n",
      "decoupled dysplasia mention\n",
      "decoupled dysplasia mention\n",
      "decoupled dysplasia mention\n",
      "decoupled dysplasia mention\n",
      "decoupled dysplasia mention\n",
      "decoupled dysplasia mention(s)\n",
      "decoupled dysplasia mention\n",
      "decoupled dysplasia mention\n",
      "decoupled dysplasia mention\n",
      "decoupled dysplasia mention(s)\n",
      "decoupled dysplasia mention\n",
      "decoupled dysplasia mention\n",
      "decoupled dysplasia mention\n",
      "decoupled dysplasia mention\n",
      "decoupled dysplasia mention\n",
      "decoupled dysplasia mention\n",
      "decoupled dysplasia mention\n",
      "decoupled dysplasia mention\n",
      "decoupled dysplasia mention\n",
      "decoupled dysplasia mention\n",
      "decoupled dysplasia mention\n",
      "decoupled dysplasia mention\n",
      "decoupled dysplasia mention\n",
      "decoupled dysplasia mention\n",
      "decoupled dysplasia mention\n",
      "decoupled dysplasia mention\n",
      "decoupled dysplasia mention\n",
      "decoupled dysplasia mention\n",
      "decoupled dysplasia mention\n",
      "decoupled dysplasia mention\n",
      "decoupled dysplasia mention\n",
      "decoupled dysplasia mention(s)\n",
      "decoupled dysplasia mention\n",
      "decoupled dysplasia mention\n",
      "decoupled dysplasia mention\n",
      "decoupled dysplasia mention\n",
      "decoupled dysplasia mention\n",
      "decoupled dysplasia mention\n",
      "decoupled dysplasia mention\n",
      "decoupled dysplasia mention\n",
      "decoupled dysplasia mention\n",
      "decoupled dysplasia mention\n",
      "decoupled dysplasia mention\n",
      "decoupled dysplasia mention\n",
      "decoupled dysplasia mention\n",
      "decoupled dysplasia mention(s)\n",
      "decoupled dysplasia mention\n",
      "decoupled dysplasia mention\n",
      "decoupled dysplasia mention(s)\n",
      "decoupled dysplasia mention\n",
      "decoupled dysplasia mention\n",
      "decoupled dysplasia mention\n",
      "decoupled dysplasia mention\n",
      "decoupled dysplasia mention\n",
      "decoupled dysplasia mention\n",
      "decoupled dysplasia mention\n",
      "decoupled dysplasia mention\n",
      "decoupled dysplasia mention\n",
      "decoupled dysplasia mention\n",
      "decoupled dysplasia mention\n",
      "decoupled dysplasia mention\n",
      "decoupled dysplasia mention(s)\n",
      "decoupled dysplasia mention\n",
      "decoupled dysplasia mention\n",
      "decoupled dysplasia mention\n",
      "decoupled dysplasia mention(s)\n",
      "decoupled dysplasia mention\n",
      "decoupled dysplasia mention\n",
      "decoupled dysplasia mention(s)\n",
      "decoupled dysplasia mention\n",
      "decoupled dysplasia mention\n",
      "decoupled dysplasia mention\n",
      "decoupled dysplasia mention\n",
      "decoupled dysplasia mention\n",
      "decoupled dysplasia mention\n",
      "decoupled dysplasia mention\n",
      "decoupled dysplasia mention\n",
      "decoupled dysplasia mention(s)\n",
      "decoupled dysplasia mention\n",
      "decoupled dysplasia mention(s)\n",
      "decoupled dysplasia mention\n",
      "decoupled dysplasia mention\n",
      "decoupled dysplasia mention\n",
      "decoupled dysplasia mention\n",
      "decoupled dysplasia mention\n",
      "decoupled dysplasia mention\n",
      "decoupled dysplasia mention\n",
      "decoupled dysplasia mention\n",
      "decoupled dysplasia mention\n",
      "decoupled dysplasia mention\n",
      "decoupled dysplasia mention\n",
      "decoupled dysplasia mention\n",
      "decoupled dysplasia mention\n",
      "decoupled dysplasia mention\n",
      "decoupled dysplasia mention\n",
      "decoupled dysplasia mention\n",
      "decoupled dysplasia mention\n",
      "decoupled dysplasia mention\n",
      "decoupled dysplasia mention\n",
      "decoupled dysplasia mention\n",
      "decoupled dysplasia mention\n",
      "decoupled dysplasia mention\n",
      "decoupled dysplasia mention\n",
      "decoupled dysplasia mention\n",
      "decoupled dysplasia mention\n",
      "decoupled dysplasia mention\n",
      "decoupled dysplasia mention\n",
      "decoupled dysplasia mention(s)\n",
      "decoupled dysplasia mention(s)\n",
      "decoupled dysplasia mention\n",
      "decoupled dysplasia mention\n",
      "decoupled dysplasia mention\n",
      "decoupled dysplasia mention\n",
      "decoupled dysplasia mention\n",
      "decoupled dysplasia mention\n",
      "decoupled dysplasia mention\n",
      "decoupled dysplasia mention\n",
      "decoupled dysplasia mention\n",
      "decoupled dysplasia mention\n",
      "decoupled dysplasia mention\n",
      "decoupled dysplasia mention\n",
      "decoupled dysplasia mention\n",
      "decoupled dysplasia mention\n",
      "decoupled dysplasia mention\n",
      "decoupled dysplasia mention\n",
      "decoupled dysplasia mention\n",
      "decoupled dysplasia mention\n",
      "decoupled dysplasia mention\n",
      "decoupled dysplasia mention\n",
      "decoupled dysplasia mention\n",
      "decoupled dysplasia mention\n",
      "decoupled dysplasia mention\n",
      "decoupled dysplasia mention\n",
      "decoupled dysplasia mention\n",
      "decoupled dysplasia mention\n",
      "decoupled dysplasia mention\n",
      "decoupled dysplasia mention\n",
      "decoupled dysplasia mention\n",
      "decoupled dysplasia mention\n",
      "decoupled dysplasia mention\n",
      "decoupled dysplasia mention\n",
      "decoupled dysplasia mention\n",
      "decoupled dysplasia mention\n",
      "decoupled dysplasia mention\n",
      "decoupled dysplasia mention\n",
      "decoupled dysplasia mention\n",
      "decoupled dysplasia mention\n",
      "decoupled dysplasia mention\n",
      "decoupled dysplasia mention\n",
      "decoupled dysplasia mention\n",
      "decoupled dysplasia mention\n",
      "decoupled dysplasia mention\n",
      "decoupled dysplasia mention\n",
      "decoupled dysplasia mention(s)\n",
      "decoupled dysplasia mention\n",
      "decoupled dysplasia mention\n",
      "decoupled dysplasia mention\n",
      "decoupled dysplasia mention\n",
      "decoupled dysplasia mention\n",
      "decoupled dysplasia mention\n",
      "decoupled dysplasia mention\n",
      "decoupled dysplasia mention\n",
      "decoupled dysplasia mention\n",
      "decoupled dysplasia mention\n",
      "decoupled dysplasia mention\n",
      "rdf graph serialized to ./data/graphs/colon/radboud/graph_2ndDS.ttl with turtle format\n",
      "rdf graph serialized to ./data/graphs/colon/radboud/graph_2ndDS.n3 with n3 format\n",
      "rdf graph serialized to ./data/graphs/colon/radboud/graph_2ndDS.trig with trig format\n"
     ]
    },
    {
     "data": {
      "text/plain": [
       "True"
      ]
     },
     "execution_count": 18,
     "metadata": {},
     "output_type": "execute_result"
    }
   ],
   "source": [
    "## convert report concepts into an rdf graph and serialize into n3, trig, and turtle formats\n",
    "\n",
    "graphs = list()\n",
    "# convert report concepts into list of (s, p, o) triples\n",
    "for rid in reports.keys():\n",
    "    graphs.append(rdf_proc.radboud_create_graph(rid, reports[rid], concepts[rid], exa_proc, use_case))\n",
    "# serialize graphs into rdf using specified format\n",
    "rdf_proc.searialize_report_graphs(graphs, output='./data/graphs/colon/radboud/graph_2ndDS.ttl', rdf_format='turtle')\n",
    "rdf_proc.searialize_report_graphs(graphs, output='./data/graphs/colon/radboud/graph_2ndDS.n3', rdf_format='n3')\n",
    "rdf_proc.searialize_report_graphs(graphs, output='./data/graphs/colon/radboud/graph_2ndDS.trig', rdf_format='trig')"
   ]
  }
 ],
 "metadata": {
  "kernelspec": {
   "display_name": "Python 3",
   "language": "python",
   "name": "python3"
  },
  "language_info": {
   "codemirror_mode": {
    "name": "ipython",
    "version": 3
   },
   "file_extension": ".py",
   "mimetype": "text/x-python",
   "name": "python",
   "nbconvert_exporter": "python",
   "pygments_lexer": "ipython3",
   "version": "3.7.4"
  }
 },
 "nbformat": 4,
 "nbformat_minor": 2
}
