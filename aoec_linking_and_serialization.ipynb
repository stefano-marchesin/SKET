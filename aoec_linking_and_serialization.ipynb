{
 "cells": [
  {
   "cell_type": "code",
   "execution_count": 1,
   "metadata": {
    "scrolled": true
   },
   "outputs": [
    {
     "name": "stderr",
     "output_type": "stream",
     "text": [
      "/home/ims/anaconda3/envs/tf-gpu/lib/python3.7/site-packages/tensorflow/python/framework/dtypes.py:526: FutureWarning: Passing (type, 1) or '1type' as a synonym of type is deprecated; in a future version of numpy, it will be understood as (type, (1,)) / '(1,)type'.\n",
      "  _np_qint8 = np.dtype([(\"qint8\", np.int8, 1)])\n",
      "/home/ims/anaconda3/envs/tf-gpu/lib/python3.7/site-packages/tensorflow/python/framework/dtypes.py:527: FutureWarning: Passing (type, 1) or '1type' as a synonym of type is deprecated; in a future version of numpy, it will be understood as (type, (1,)) / '(1,)type'.\n",
      "  _np_quint8 = np.dtype([(\"quint8\", np.uint8, 1)])\n",
      "/home/ims/anaconda3/envs/tf-gpu/lib/python3.7/site-packages/tensorflow/python/framework/dtypes.py:528: FutureWarning: Passing (type, 1) or '1type' as a synonym of type is deprecated; in a future version of numpy, it will be understood as (type, (1,)) / '(1,)type'.\n",
      "  _np_qint16 = np.dtype([(\"qint16\", np.int16, 1)])\n",
      "/home/ims/anaconda3/envs/tf-gpu/lib/python3.7/site-packages/tensorflow/python/framework/dtypes.py:529: FutureWarning: Passing (type, 1) or '1type' as a synonym of type is deprecated; in a future version of numpy, it will be understood as (type, (1,)) / '(1,)type'.\n",
      "  _np_quint16 = np.dtype([(\"quint16\", np.uint16, 1)])\n",
      "/home/ims/anaconda3/envs/tf-gpu/lib/python3.7/site-packages/tensorflow/python/framework/dtypes.py:530: FutureWarning: Passing (type, 1) or '1type' as a synonym of type is deprecated; in a future version of numpy, it will be understood as (type, (1,)) / '(1,)type'.\n",
      "  _np_qint32 = np.dtype([(\"qint32\", np.int32, 1)])\n",
      "/home/ims/anaconda3/envs/tf-gpu/lib/python3.7/site-packages/tensorflow/python/framework/dtypes.py:535: FutureWarning: Passing (type, 1) or '1type' as a synonym of type is deprecated; in a future version of numpy, it will be understood as (type, (1,)) / '(1,)type'.\n",
      "  np_resource = np.dtype([(\"resource\", np.ubyte, 1)])\n"
     ]
    }
   ],
   "source": [
    "import pickle\n",
    "import json\n",
    "import warnings\n",
    "\n",
    "import utils\n",
    "\n",
    "from ontology_processing import OntologyProc\n",
    "from rdf_processing import RDFProc\n",
    "from report_processing import ReportProc\n",
    "from bionlp import BioNLP"
   ]
  },
  {
   "cell_type": "code",
   "execution_count": 2,
   "metadata": {},
   "outputs": [],
   "source": [
    "# filter warnings produced by spacy on similarity between empty vectors\n",
    "warnings.filterwarnings('ignore')"
   ]
  },
  {
   "cell_type": "code",
   "execution_count": 3,
   "metadata": {},
   "outputs": [],
   "source": [
    "# available models\n",
    "fasttext = '/home/ims/Desktop/Marchesin/EXAMODE_COLON/embeddings/BioWordVec_PubMed_MIMICIII_d200.bin' \n",
    "bert = 'emilyalsentzer/Bio_ClinicalBERT'"
   ]
  },
  {
   "cell_type": "code",
   "execution_count": 4,
   "metadata": {},
   "outputs": [
    {
     "name": "stderr",
     "output_type": "stream",
     "text": [
      "\n"
     ]
    }
   ],
   "source": [
    "## set instances - this part needs to be uploaded as a request server (I guess?)\n",
    "\n",
    "# ontology processing\n",
    "exa_proc = OntologyProc(ontology_path='./ontology/examode.owl', hiearchies_path='./hierarchy_relations.txt')\n",
    "# rdf processing\n",
    "rdf_proc = RDFProc()\n",
    "# report processing\n",
    "report_proc = ReportProc()\n",
    "# biomedical nlp processing\n",
    "bio_proc = BioNLP(biospacy=\"en_core_sci_lg\", biofast=fasttext, bert=None, \n",
    "                 rules='./rules.txt', dysplasia_mappings='./dysplasia_mappings.txt', cin_mappings='./cin_mappings.txt')"
   ]
  },
  {
   "cell_type": "code",
   "execution_count": 11,
   "metadata": {},
   "outputs": [],
   "source": [
    "## load translatec datasets \n",
    "\n",
    "# load AOEC translated reports\n",
    "with open('./trans_reports/colon/aoec/aoec_translated_reports_1stDS.pkl', 'rb') as out:\n",
    "    reports = pickle.load(out)"
   ]
  },
  {
   "cell_type": "code",
   "execution_count": 12,
   "metadata": {},
   "outputs": [],
   "source": [
    "## user-defined parameters\n",
    "\n",
    "# define disease use case\n",
    "use_case = 'colon'"
   ]
  },
  {
   "cell_type": "code",
   "execution_count": 13,
   "metadata": {},
   "outputs": [],
   "source": [
    "## restrict base on ontology use case\n",
    "\n",
    "# restrict hand-crafted rules and dysplasia mappings based on use-case\n",
    "bio_proc.restrict2use_case(use_case=use_case)\n",
    "# restrict ontology to given use case\n",
    "exa_use_case = exa_proc.restrict2use_case(use_case=use_case)\n",
    "# get concept labels for the considered use case\n",
    "exa_labels = bio_proc.process_ontology_concepts(labels=[label.lower() for label in exa_use_case['label'].tolist()])"
   ]
  },
  {
   "cell_type": "code",
   "execution_count": 15,
   "metadata": {
    "scrolled": true
   },
   "outputs": [
    {
     "name": "stderr",
     "output_type": "stream",
     "text": [
      "100%|██████████| 50/50 [00:14<00:00,  3.55it/s]\n"
     ]
    }
   ],
   "source": [
    "## perform linking and merge concepts from 'structured' and 'nlp' parts\n",
    "\n",
    "# process AOEC reports before linking\n",
    "reports = report_proc.process_aoec_reports(reports)\n",
    "\n",
    "# perform linking over AOEC reports\n",
    "concepts = bio_proc.aoec_entity_linking(reports, exa_proc, exa_labels, use_case, exa_use_case)"
   ]
  },
  {
   "cell_type": "code",
   "execution_count": 16,
   "metadata": {},
   "outputs": [],
   "source": [
    "## convert report concepts into pre-defined labels used for classification \n",
    "\n",
    "# get report labels \n",
    "labels = utils.aoec_colon_concepts2labels(concepts)\n",
    "# convert report labels to binary\n",
    "binary = utils.aoec_colon_labels2binary(labels)"
   ]
  },
  {
   "cell_type": "code",
   "execution_count": 17,
   "metadata": {},
   "outputs": [
    {
     "data": {
      "text/plain": [
       "True"
      ]
     },
     "execution_count": 17,
     "metadata": {},
     "output_type": "execute_result"
    }
   ],
   "source": [
    "## store concepts and labels\n",
    "\n",
    "utils.store_concepts(concepts, './data/concepts/colon/aoec/concepts_1stDS_no_mention_match_rules')\n",
    "utils.store_labels(labels, './data/labels/colon/aoec/labels_1stDS_no_mention_match_rules')\n",
    "utils.store_labels(binary, './data/labels/colon/aoec/binary_1stDS_no_mention_match_rules')"
   ]
  },
  {
   "cell_type": "code",
   "execution_count": 18,
   "metadata": {},
   "outputs": [
    {
     "name": "stdout",
     "output_type": "stream",
     "text": [
      "rdf graph serialized to ./data/graphs/cervix/aoec/graph_2ndDS.ttl with turtle format\n",
      "rdf graph serialized to ./data/graphs/cervix/aoec/graph_2ndDS.n3 with n3 format\n",
      "rdf graph serialized to ./data/graphs/cervix/aoec/graph_2ndDS.trig with trig format\n"
     ]
    },
    {
     "data": {
      "text/plain": [
       "True"
      ]
     },
     "execution_count": 18,
     "metadata": {},
     "output_type": "execute_result"
    }
   ],
   "source": [
    "## convert report concepts into an rdf graph and serialize into n3, trig, and turtle formats\n",
    "\n",
    "graphs = list()\n",
    "# convert report concepts into list of (s, p, o) triples\n",
    "for rid in reports.keys():\n",
    "    graphs.append(rdf_proc.aoec_create_graph(rid, reports[rid], concepts[rid], exa_proc, use_case))\n",
    "# serialize graphs into rdf using specified format\n",
    "rdf_proc.searialize_report_graphs(graphs, output='./data/graphs/cervix/aoec/graph_2ndDS.ttl', rdf_format='turtle')\n",
    "rdf_proc.searialize_report_graphs(graphs, output='./data/graphs/cervix/aoec/graph_2ndDS.n3', rdf_format='n3')\n",
    "rdf_proc.searialize_report_graphs(graphs, output='./data/graphs/cervix/aoec/graph_2ndDS.trig', rdf_format='trig')"
   ]
  },
  {
   "cell_type": "code",
   "execution_count": null,
   "metadata": {},
   "outputs": [],
   "source": []
  }
 ],
 "metadata": {
  "kernelspec": {
   "display_name": "Python 3",
   "language": "python",
   "name": "python3"
  },
  "language_info": {
   "codemirror_mode": {
    "name": "ipython",
    "version": 3
   },
   "file_extension": ".py",
   "mimetype": "text/x-python",
   "name": "python",
   "nbconvert_exporter": "python",
   "pygments_lexer": "ipython3",
   "version": "3.7.4"
  }
 },
 "nbformat": 4,
 "nbformat_minor": 2
}
